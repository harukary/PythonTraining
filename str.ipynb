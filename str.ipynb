{
 "cells": [
  {
   "cell_type": "markdown",
   "source": [
    "# Str\r\n",
    "* joinでリスト連結\r\n",
    "* reで特定文字列の位置検出"
   ],
   "metadata": {}
  },
  {
   "cell_type": "code",
   "execution_count": 13,
   "source": [
    "import re"
   ],
   "outputs": [],
   "metadata": {}
  },
  {
   "cell_type": "code",
   "execution_count": 10,
   "source": [
    "# joinでリスト連結\r\n",
    "str_list = ['a','b','c']\r\n",
    "print('改行：\\n','\\n '.join(str_list))\r\n",
    "print('コンマ：',','.join(str_list))"
   ],
   "outputs": [
    {
     "output_type": "stream",
     "name": "stdout",
     "text": [
      "改行：\n",
      " a\n",
      " b\n",
      " c\n",
      "コンマ： a,b,c\n"
     ]
    }
   ],
   "metadata": {}
  },
  {
   "cell_type": "code",
   "execution_count": 19,
   "source": [
    "# reで特定文字列の位置検出\r\n",
    "key = '煮'\r\n",
    "instruction_list = [\r\n",
    "    \"玉葱を繊維に沿ってくし切りで約3cm程度の大きさに揃えておく。\",\r\n",
    "    \"フライパンにあわせだし汁を入れ、まだ冷たいだし汁の中にお肉をほぐしながら入れ、野菜を加えキッチンペーパーで落し蓋をし火をつけて強火で一度煮立てる。\",\r\n",
    "    \"煮立ったら中火にし、約15分ほど煮る。\",\r\n",
    "    \"出汁が半分くらいに煮詰まったら、火を止め、具材に味を浸み込ませるため、一度常温になるまで冷ます。\",\r\n",
    "    \"再度火にかけます。落し蓋を外し中火にかけ、フライパンを傾けて出汁を材料にかけながら、好みの味になるまで煮詰める。味を整えたら、火を止める。\",\r\n",
    "    \"皿に盛り付け、お好みできぬさやをちらして完成。\"\r\n",
    "]\r\n",
    "\r\n",
    "instruction = ''.join(instruction_list)\r\n",
    "print(instruction)\r\n",
    "\r\n",
    "position = [(m.start()) for m in re.finditer(key, instruction)]\r\n",
    "print('煮：', position)"
   ],
   "outputs": [
    {
     "output_type": "stream",
     "name": "stdout",
     "text": [
      "玉葱を繊維に沿ってくし切りで約3cm程度の大きさに揃えておく。フライパンにあわせだし汁を入れ、まだ冷たいだし汁の中にお肉をほぐしながら入れ、野菜を加えキッチンペーパーで落し蓋をし火をつけて強火で一度煮立てる。煮立ったら中火にし、約15分ほど煮る。出汁が半分くらいに煮詰まったら、火を止め、具材に味を浸み込ませるため、一度常温になるまで冷ます。再度火にかけます。落し蓋を外し中火にかけ、フライパンを傾けて出汁を材料にかけながら、好みの味になるまで煮詰める。味を整えたら、火を止める。皿に盛り付け、お好みできぬさやをちらして完成。\n",
      "煮： [99, 104, 120, 132, 222]\n"
     ]
    }
   ],
   "metadata": {}
  }
 ],
 "metadata": {
  "orig_nbformat": 4,
  "language_info": {
   "name": "python",
   "version": "3.9.6",
   "mimetype": "text/x-python",
   "codemirror_mode": {
    "name": "ipython",
    "version": 3
   },
   "pygments_lexer": "ipython3",
   "nbconvert_exporter": "python",
   "file_extension": ".py"
  },
  "kernelspec": {
   "name": "python3",
   "display_name": "Python 3.9.6 64-bit"
  },
  "interpreter": {
   "hash": "703bbbeedfcbeab203e322e73325805c9ac8ffb4b5321a34c42f421369651d04"
  }
 },
 "nbformat": 4,
 "nbformat_minor": 2
}