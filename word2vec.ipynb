{
 "cells": [
  {
   "cell_type": "markdown",
   "source": [
    "15分でできる日本語Word2Vec https://qiita.com/makaishi2/items/63b7986f6da93dc55edd"
   ],
   "metadata": {}
  },
  {
   "cell_type": "code",
   "execution_count": 8,
   "source": [
    "import json\r\n",
    "import urllib.request\r\n",
    "from janome.tokenizer import Tokenizer\r\n",
    "from gensim.models import word2vec"
   ],
   "outputs": [],
   "metadata": {}
  },
  {
   "cell_type": "code",
   "execution_count": 1,
   "source": [
    "# zipファイルダウンロード\r\n",
    "url = 'https://www.aozora.gr.jp/cards/000148/files/794_ruby_4237.zip'\r\n",
    "zip = 'data/794_ruby_4237.zip'\r\n",
    "urllib.request.urlretrieve(url, zip)\r\n",
    "\r\n",
    "# ダウンロードしたzipの解凍\r\n",
    "import zipfile\r\n",
    "with zipfile.ZipFile(zip, 'r') as myzip:\r\n",
    "    myzip.extractall()\r\n",
    "    # 解凍後のファイルからデータ読み込み\r\n",
    "    for myfile in myzip.infolist():\r\n",
    "        # 解凍後ファイル名取得\r\n",
    "        filename = myfile.filename\r\n",
    "        # ファイルオープン時にencodingを指定してsjisの変換をする\r\n",
    "        with open(filename, encoding='sjis') as file:\r\n",
    "            text = file.read()\r\n",
    "\r\n",
    "# ファイル整形\r\n",
    "import re\r\n",
    "# ヘッダ部分の除去\r\n",
    "text = re.split('\\-{5,}',text)[2]\r\n",
    "# フッタ部分の除去\r\n",
    "text = re.split('底本：',text)[0]\r\n",
    "# | の除去\r\n",
    "text = text.replace('|', '')\r\n",
    "# ルビの削除\r\n",
    "text = re.sub('《.+?》', '', text)\r\n",
    "# 入力注の削除\r\n",
    "text = re.sub('［＃.+?］', '',text)\r\n",
    "# 空行の削除\r\n",
    "text = re.sub('\\n\\n', '\\n', text) \r\n",
    "text = re.sub('\\r', '', text)\r\n",
    "\r\n",
    "# 整形結果確認\r\n",
    "\r\n",
    "# 頭の100文字の表示 \r\n",
    "print(text[:100])\r\n",
    "# 見やすくするため、空行 \r\n",
    "print()\r\n",
    "print()\r\n",
    "# 後ろの100文字の表示 \r\n",
    "print(text[-100:])"
   ],
   "outputs": [
    {
     "output_type": "stream",
     "name": "stdout",
     "text": [
      "\n",
      "一\n",
      "　うとうととして目がさめると女はいつのまにか、隣のじいさんと話を始めている。このじいさんはたしかに前の前の駅から乗ったいなか者である。発車まぎわに頓狂な声を出して駆け込んで来て、いきなり肌をぬい\n",
      "\n",
      "\n",
      "評に取りかかる。与次郎だけが三四郎のそばへ来た。\n",
      "「どうだ森の女は」\n",
      "「森の女という題が悪い」\n",
      "「じゃ、なんとすればよいんだ」\n",
      "　三四郎はなんとも答えなかった。ただ口の中で迷羊、迷羊と繰り返した。\n",
      "\n",
      "\n"
     ]
    }
   ],
   "metadata": {}
  },
  {
   "cell_type": "code",
   "execution_count": 2,
   "source": [
    "# Tokenizerインスタンスの生成 \r\n",
    "t = Tokenizer()\r\n",
    "\r\n",
    "# テキストを引数として、形態素解析の結果、名詞・動詞・形容詞(原形)のみを配列で抽出する関数を定義 \r\n",
    "def extract_words(text):\r\n",
    "    tokens = t.tokenize(text)\r\n",
    "    return [token.base_form for token in tokens \r\n",
    "        if token.part_of_speech.split(',')[0] in['名詞', '動詞']]\r\n",
    "\r\n",
    "#  関数テスト\r\n",
    "# ret = extract_words('三四郎は京都でちょっと用があって降りたついでに。')\r\n",
    "# for word in ret:\r\n",
    "#    print(word)\r\n",
    "\r\n",
    "# 全体のテキストを句点('。')で区切った配列にする。 \r\n",
    "sentences = text.split('。')\r\n",
    "# それぞれの文章を単語リストに変換(処理に数分かかります)\r\n",
    "word_list = [extract_words(sentence) for sentence in sentences]\r\n",
    "\r\n",
    "# 結果の一部を確認 \r\n",
    "for word in word_list[0]:\r\n",
    "    print(word)"
   ],
   "outputs": [
    {
     "output_type": "stream",
     "name": "stdout",
     "text": [
      "一\n",
      "する\n",
      "目\n",
      "さめる\n",
      "女\n",
      "隣\n",
      "じいさん\n",
      "話\n",
      "始める\n",
      "いる\n"
     ]
    }
   ],
   "metadata": {}
  },
  {
   "cell_type": "markdown",
   "source": [
    "sentences=None, \r\n",
    "corpus_file=None, \r\n",
    "vector_size=100, \r\n",
    "alpha=0.025, \r\n",
    "window=5, \r\n",
    "min_count=5, \r\n",
    "max_vocab_size=None, \r\n",
    "sample=0.001, \r\n",
    "seed=1, \r\n",
    "workers=3, \r\n",
    "min_alpha=0.0001, \r\n",
    "sg=0, \r\n",
    "hs=0, \r\n",
    "negative=5, \r\n",
    "ns_exponent=0.75, \r\n",
    "cbow_mean=1, \r\n",
    "hashfxn=<built-in function hash>, \r\n",
    "epochs=5, \r\n",
    "null_word=0, \r\n",
    "trim_rule=None, \r\n",
    "sorted_vocab=1, \r\n",
    "batch_words=10000, \r\n",
    "compute_loss=False, \r\n",
    "callbacks=(), \r\n",
    "comment=None, \r\n",
    "max_final_vocab=None)"
   ],
   "metadata": {}
  },
  {
   "cell_type": "code",
   "execution_count": 3,
   "source": [
    "# size: 圧縮次元数\r\n",
    "# min_count: 出現頻度の低いものをカットする\r\n",
    "# window: 前後の単語を拾う際の窓の広さを決める\r\n",
    "# iter: 機械学習の繰り返し回数(デフォルト:5)十分学習できていないときにこの値を調整する\r\n",
    "# model.wv.most_similarの結果が1に近いものばかりで、model.dict['wv']のベクトル値が小さい値ばかりの \r\n",
    "# ときは、学習回数が少ないと考えられます。\r\n",
    "# その場合、iterの値を大きくして、再度学習を行います。\r\n",
    "\r\n",
    "# 事前準備したword_listを使ってWord2Vecの学習実施\r\n",
    "# print(help(word2vec.Word2Vec()))\r\n",
    "model = word2vec.Word2Vec(word_list, vector_size=100,min_count=5,window=5,epochs=100)"
   ],
   "outputs": [
    {
     "output_type": "stream",
     "name": "stderr",
     "text": [
      "C:\\Users\\haruk\\AppData\\Local\\Programs\\Python\\Python39\\lib\\site-packages\\gensim\\similarities\\__init__.py:15: UserWarning: The gensim.similarities.levenshtein submodule is disabled, because the optional Levenshtein package <https://pypi.org/project/python-Levenshtein/> is unavailable. Install Levenhstein (e.g. `pip install python-Levenshtein`) to suppress this warning.\n",
      "  warnings.warn(msg)\n"
     ]
    }
   ],
   "metadata": {}
  },
  {
   "cell_type": "code",
   "execution_count": 4,
   "source": [
    "print(model.__dict__['wv']['世間'])"
   ],
   "outputs": [
    {
     "output_type": "stream",
     "name": "stdout",
     "text": [
      "[-0.02342418  0.7995041  -0.06785399  0.02257429 -0.4907826  -0.5104657\n",
      " -0.14073755  0.4452458  -0.23098688  0.17104453  0.42721802 -0.46468538\n",
      "  0.12858783  0.52194965  0.2275441  -0.12669651 -0.06366496 -0.0021622\n",
      "  0.22506769 -0.80989295 -0.9734439   0.4786812   0.11691452 -1.1231492\n",
      "  0.2593213   0.04639455 -0.56368816 -0.35878667 -0.19768499 -0.82413137\n",
      "  0.43515825 -0.22792846 -0.09085202 -0.2186421  -0.31527388  0.24011101\n",
      " -0.53099126 -0.26208246 -0.26015916  0.01928342  0.46294722 -0.12994617\n",
      " -0.73061335 -0.6540881  -0.39690083  0.6186091  -0.10938062 -0.565133\n",
      "  0.5356147  -0.53265846  0.6592306  -0.38061428  0.6069152  -0.40520078\n",
      "  0.08645136 -0.6913601   0.43534136 -0.06651203 -0.46202615  0.5396672\n",
      " -0.76363456  0.17021827 -0.63488066 -0.5545133  -0.8611824   0.30002668\n",
      " -0.12758845 -0.45502862  0.1931637   0.2086118  -0.39836025 -0.5607809\n",
      " -0.3781595  -0.06220999  0.45573375 -0.01196804  0.10914601  0.42883742\n",
      "  0.208486    0.29640514 -0.7889408   0.16478486 -0.29828426  0.01281738\n",
      "  0.0095718  -0.39046592 -0.07179494 -0.24716914  0.3237584   0.5523518\n",
      " -0.42571238 -0.19415124  0.08473998 -0.90895706  0.27451807 -0.13332713\n",
      " -0.05413493 -0.03496723  0.16453494 -0.2136375 ]\n"
     ]
    }
   ],
   "metadata": {}
  },
  {
   "cell_type": "code",
   "execution_count": 5,
   "source": [
    "# 結果の確認2\r\n",
    "# 関数most_similarを使って「世間」の類似単語を調べます \r\n",
    "ret = model.wv.most_similar(positive=['世間']) \r\n",
    "for item in ret:\r\n",
    "    print(item[0], item[1])"
   ],
   "outputs": [
    {
     "output_type": "stream",
     "name": "stdout",
     "text": [
      "聞こえる 0.5507597327232361\n",
      "喝采 0.5462894439697266\n",
      "自己 0.5396975874900818\n",
      "賛成 0.5204139947891235\n",
      "社会 0.4910232722759247\n",
      "外国 0.4857619106769562\n",
      "有す 0.46897920966148376\n",
      "決心 0.4653388261795044\n",
      "今日 0.45626208186149597\n",
      "彼ら 0.45155787467956543\n"
     ]
    }
   ],
   "metadata": {}
  },
  {
   "cell_type": "code",
   "execution_count": 9,
   "source": [
    "path = 'data/recipe_chefgohan.json'\r\n",
    "df = json.load(open(path, 'r', encoding='utf-8'))\r\n",
    "# print(df)\r\n",
    "text = ''\r\n",
    "for _,r in df['recipes'].items():\r\n",
    "    # print(r['title'])\r\n",
    "    start = r['title']+'を作ります。'\r\n",
    "    end = r['title']+'が完成しました。'\r\n",
    "    instructions = ''.join(r['instructions']).replace('\\n','')\r\n",
    "    text += start + instructions + end + '\\n'\r\n",
    "print(text[:100])"
   ],
   "outputs": [
    {
     "output_type": "stream",
     "name": "stdout",
     "text": [
      "さつま芋のもちもちチーズ羊羹を作ります。牛乳と生クリームを合わせ、棒寒天を加えて煮溶かす。下準備したさつまいもとクリームチーズを合わせてよく混ぜてSTEP1をこしながら加える。さらに小麦粉とラム酒を加\n"
     ]
    }
   ],
   "metadata": {}
  },
  {
   "cell_type": "code",
   "execution_count": 10,
   "source": [
    "# 全体のテキストを句点('。')で区切った配列にする。 \r\n",
    "sentences = text.split('。')\r\n",
    "# それぞれの文章を単語リストに変換(処理に数分かかります)\r\n",
    "word_list = [extract_words(sentence) for sentence in sentences]\r\n",
    "\r\n",
    "# 結果の一部を確認 \r\n",
    "for word in word_list[0]:\r\n",
    "    print(word)"
   ],
   "outputs": [
    {
     "output_type": "stream",
     "name": "stdout",
     "text": [
      "さつま芋\n",
      "もち\n",
      "もち\n",
      "チーズ\n",
      "羊羹\n",
      "作る\n"
     ]
    }
   ],
   "metadata": {}
  },
  {
   "cell_type": "code",
   "execution_count": 11,
   "source": [
    "model = word2vec.Word2Vec(word_list, vector_size=300,min_count=5,window=5,epochs=100)"
   ],
   "outputs": [],
   "metadata": {}
  },
  {
   "cell_type": "code",
   "execution_count": 12,
   "source": [
    "print(model.__dict__['wv']['肉'])"
   ],
   "outputs": [
    {
     "output_type": "stream",
     "name": "stdout",
     "text": [
      "[-0.5986756   0.11120176  2.483063   -0.99792653  0.94078827 -2.1803505\n",
      "  1.7289515  -0.78446496 -0.6961496  -0.6034527  -1.9562347   1.8921211\n",
      " -1.2863146  -0.44978943 -0.45571327 -1.2739933   0.18854299 -0.7997567\n",
      " -0.35115007  0.15794533  0.6661978   0.95137966  0.2010077  -0.5620384\n",
      " -0.17434746 -0.55147153 -0.9045373  -0.4674271  -0.0425252  -1.3209642\n",
      " -1.2287056   0.23286985  0.54537106  0.3729948   0.94298756 -0.49929747\n",
      "  0.21364297  1.2980967   1.555055   -1.496617    0.00643672 -0.78650355\n",
      " -0.62216556  1.9311621   0.67826766  0.2670711   0.8559301  -0.13909958\n",
      "  0.6537466  -0.7627413   0.51864386 -0.09093025 -0.18669231 -1.9206095\n",
      "  0.11453193  1.872001    1.2213339  -0.2928359   0.8865545  -0.09018312\n",
      "  0.7639236   0.44107923  0.6790276   0.42932513  0.39496636  0.648185\n",
      " -0.5341494   1.759587   -0.8662903  -0.9017549  -1.0480204  -0.67416567\n",
      "  0.113922   -0.53868866  0.02932351  1.366291   -0.08127295  0.8078089\n",
      "  0.9044685   0.26821086 -0.24697204  0.15461186 -1.2659596   0.89433974\n",
      "  0.37311184 -0.98519975  0.66349024  0.36309433  1.3659248  -0.33551398\n",
      "  1.7897967   0.04679071 -1.390618    1.145233   -0.35049856  1.1363881\n",
      "  0.4448562   0.44510078  0.23876393  0.62188786  0.4649762  -0.90912014\n",
      "  0.3303534   0.42032328 -0.56301177 -1.009584   -0.33376154 -0.1009157\n",
      "  1.3499137   0.866271    0.42487574 -0.9352354   1.3213357  -0.85490304\n",
      "  0.32545185  0.21724033 -0.56155777 -0.46990108 -1.0378785  -1.3282675\n",
      " -1.4610848  -0.8593633  -0.6297461  -2.689065    0.39270884 -1.168093\n",
      " -1.0424038  -0.3496954   0.8008934   1.5319698  -0.15570074 -1.4631562\n",
      " -0.548073   -1.6173519  -0.52239025 -0.625677    0.64188343 -0.9800921\n",
      "  1.692688    1.5650351  -0.11114109 -0.4650267   0.02862177 -0.83911574\n",
      "  0.4163972   1.0318762   1.1534528   1.1834645   0.21057637 -0.67873216\n",
      " -1.4811596   1.0203836   0.53858316  1.6839489   0.05695064  0.6083206\n",
      "  0.6774126  -0.99587274 -0.30241328  0.7583523  -0.9856351  -1.0693289\n",
      " -0.27570194  0.62453717 -0.20094849 -1.6394755   0.31978652  0.02542115\n",
      "  0.7666218  -0.39404994 -0.7867832   0.02233508  0.79375434 -0.2494369\n",
      "  1.4328167   0.84549725  0.8660655  -0.817472   -0.25525975  1.4716055\n",
      " -0.6727351  -0.04919009 -0.56160855 -2.8377304  -0.44674975 -0.10923955\n",
      " -1.3377553   0.5891404   0.35506988 -1.3469881  -2.159306   -0.15227301\n",
      "  0.80162036 -1.3958092   1.3814962  -0.31548095 -0.6149532   0.4412515\n",
      " -0.47026575 -0.25081128  1.4957639  -0.00519454  0.33539292  0.34353063\n",
      "  0.7354197  -0.5335221  -1.5294269  -0.26742733 -1.1020365   0.6904608\n",
      " -0.08404033 -2.1436589   1.0554997   0.16854392  0.5761545  -0.7148213\n",
      "  0.3732671   1.0807616   0.11746471 -0.6715566  -0.83037144  0.83856183\n",
      " -0.5977233   2.0585523  -0.45312876  0.9418254   0.9474355   0.77226937\n",
      "  0.5752737   1.1114503   0.15727428  0.17445686 -0.67939997 -0.8880202\n",
      " -1.806657    0.66113615 -0.57338375 -2.0080464   1.4553877  -0.26818547\n",
      "  0.11790019 -0.1633793  -0.52297467  1.229486   -0.3290569   0.25137\n",
      "  0.43215057 -0.14733511  0.37869653 -1.654973    0.60822034 -0.6520804\n",
      " -0.92339617 -0.26217198 -0.794653   -0.56774974 -0.83560884  0.68378276\n",
      "  0.99310625 -0.20145011 -0.79282016  1.6856458   0.10951991  0.9099779\n",
      " -1.2213569   0.78836375 -0.78372973  0.31259215  0.42826396  0.750281\n",
      " -1.6235313  -1.7939519   0.20326039 -1.3274115   1.2996207   0.6064908\n",
      "  0.4940915  -0.7037141   1.372488   -0.48596263 -0.9896254   1.1398836\n",
      " -1.4141451  -0.965287   -1.353174   -0.44572812 -0.7569113   0.2208136\n",
      "  0.42813936 -1.1167909   0.29064307 -0.5417712   0.76737356 -1.1966712\n",
      " -1.3035054  -0.5557971   0.5168808  -0.5081964  -0.5934171   0.90688044]\n"
     ]
    }
   ],
   "metadata": {}
  },
  {
   "cell_type": "code",
   "execution_count": 13,
   "source": [
    "ret = model.wv.most_similar(positive=['焼く']) \r\n",
    "for item in ret:\r\n",
    "    print(item[0], item[1])"
   ],
   "outputs": [
    {
     "output_type": "stream",
     "name": "stdout",
     "text": [
      "焼ける 0.49773409962654114\n",
      "キツネ 0.47269976139068604\n",
      "トースター 0.45389020442962646\n",
      "焼き上げる 0.45307379961013794\n",
      "返す 0.4320129156112671\n",
      "面 0.3933850824832916\n",
      "取り出し 0.39319199323654175\n",
      "焼き 0.3683605492115021\n",
      "押す 0.35697951912879944\n",
      "両面 0.3562738597393036\n"
     ]
    }
   ],
   "metadata": {}
  },
  {
   "cell_type": "code",
   "execution_count": 14,
   "source": [
    "results = model.wv.most_similar(positive=['焼く','水'], topn=5)\r\n",
    "for result in results:\r\n",
    "    print(result[0])"
   ],
   "outputs": [
    {
     "output_type": "stream",
     "name": "stdout",
     "text": [
      "取り出し\n",
      "キツネ\n",
      "冷水\n",
      "加工\n",
      "テフロン\n"
     ]
    }
   ],
   "metadata": {}
  },
  {
   "cell_type": "code",
   "execution_count": 15,
   "source": [
    "results = model.wv.most_similar(positive=['煮る'], negative=['水'], topn=5)\r\n",
    "for result in results:\r\n",
    "    print(result[0])"
   ],
   "outputs": [
    {
     "output_type": "stream",
     "name": "stdout",
     "text": [
      "煮込む\n",
      "絹\n",
      "タイ\n",
      "俺\n",
      "チャーハン\n"
     ]
    }
   ],
   "metadata": {}
  },
  {
   "cell_type": "code",
   "execution_count": 16,
   "source": [
    "results = model.wv.most_similar(positive=['煮る'], negative=['焼く'], topn=5)\r\n",
    "for result in results:\r\n",
    "    print(result[0])"
   ],
   "outputs": [
    {
     "output_type": "stream",
     "name": "stdout",
     "text": [
      "顆粒\n",
      "だし\n",
      "A\n",
      "ペースト\n",
      "コンソメ\n"
     ]
    }
   ],
   "metadata": {}
  },
  {
   "cell_type": "code",
   "execution_count": 17,
   "source": [
    "results = model.wv.most_similar(positive=['肉','たまねぎ'], topn=5)\r\n",
    "for result in results:\r\n",
    "    print(result[0])"
   ],
   "outputs": [
    {
     "output_type": "stream",
     "name": "stdout",
     "text": [
      "挽き肉\n",
      "きゅうり\n",
      "ロース\n",
      "玉ねぎ\n",
      "えび\n"
     ]
    }
   ],
   "metadata": {}
  }
 ],
 "metadata": {
  "orig_nbformat": 4,
  "language_info": {
   "name": "python",
   "version": "3.9.6",
   "mimetype": "text/x-python",
   "codemirror_mode": {
    "name": "ipython",
    "version": 3
   },
   "pygments_lexer": "ipython3",
   "nbconvert_exporter": "python",
   "file_extension": ".py"
  },
  "kernelspec": {
   "name": "python3",
   "display_name": "Python 3.9.6 64-bit"
  },
  "interpreter": {
   "hash": "703bbbeedfcbeab203e322e73325805c9ac8ffb4b5321a34c42f421369651d04"
  }
 },
 "nbformat": 4,
 "nbformat_minor": 2
}