{
 "cells": [
  {
   "cell_type": "markdown",
   "source": [
    "15分でできる日本語Word2Vec https://qiita.com/makaishi2/items/63b7986f6da93dc55edd"
   ],
   "metadata": {}
  },
  {
   "cell_type": "code",
   "execution_count": 1,
   "source": [
    "import zipfile\r\n",
    "import re\r\n",
    "import json\r\n",
    "import urllib.request\r\n",
    "from janome.tokenizer import Tokenizer\r\n",
    "from gensim.models import word2vec"
   ],
   "outputs": [
    {
     "output_type": "stream",
     "name": "stderr",
     "text": [
      "C:\\Users\\haruk\\AppData\\Local\\Programs\\Python\\Python39\\lib\\site-packages\\gensim\\similarities\\__init__.py:15: UserWarning: The gensim.similarities.levenshtein submodule is disabled, because the optional Levenshtein package <https://pypi.org/project/python-Levenshtein/> is unavailable. Install Levenhstein (e.g. `pip install python-Levenshtein`) to suppress this warning.\n",
      "  warnings.warn(msg)\n"
     ]
    }
   ],
   "metadata": {}
  },
  {
   "cell_type": "code",
   "execution_count": 2,
   "source": [
    "# zipファイルダウンロード\r\n",
    "url = 'https://www.aozora.gr.jp/cards/000148/files/794_ruby_4237.zip'\r\n",
    "zip = 'data/794_ruby_4237.zip'\r\n",
    "urllib.request.urlretrieve(url, zip)\r\n",
    "\r\n",
    "# ダウンロードしたzipの解凍\r\n",
    "\r\n",
    "with zipfile.ZipFile(zip, 'r') as myzip:\r\n",
    "    myzip.extractall()\r\n",
    "    # 解凍後のファイルからデータ読み込み\r\n",
    "    for myfile in myzip.infolist():\r\n",
    "        # 解凍後ファイル名取得\r\n",
    "        filename = myfile.filename\r\n",
    "        # ファイルオープン時にencodingを指定してsjisの変換をする\r\n",
    "        with open(filename, encoding='sjis') as file:\r\n",
    "            text = file.read()\r\n",
    "\r\n",
    "text = re.split('\\-{5,}',text)[2] # ヘッダ部分の除去\r\n",
    "text = re.split('底本：',text)[0] # フッタ部分の除去\r\n",
    "text = text.replace('|', '') # | の除去\r\n",
    "text = re.sub('《.+?》', '', text) # ルビの削除\r\n",
    "text = re.sub('［＃.+?］', '',text) # 入力注の削除\r\n",
    "text = re.sub('\\n\\n', '\\n', text) # 空行の削除\r\n",
    "text = re.sub('\\r', '', text)\r\n",
    "print(text[:100])"
   ],
   "outputs": [
    {
     "output_type": "stream",
     "name": "stdout",
     "text": [
      "\n",
      "一\n",
      "　うとうととして目がさめると女はいつのまにか、隣のじいさんと話を始めている。このじいさんはたしかに前の前の駅から乗ったいなか者である。発車まぎわに頓狂な声を出して駆け込んで来て、いきなり肌をぬい\n"
     ]
    }
   ],
   "metadata": {}
  },
  {
   "cell_type": "code",
   "execution_count": 3,
   "source": [
    "# Tokenizerインスタンスの生成 \r\n",
    "t = Tokenizer()\r\n",
    "\r\n",
    "# テキストを引数として、形態素解析の結果、名詞・動詞・形容詞(原形)のみを配列で抽出する関数を定義 \r\n",
    "def extract_words(text):\r\n",
    "    tokens = t.tokenize(text)\r\n",
    "    return [token.base_form for token in tokens \r\n",
    "        if token.part_of_speech.split(',')[0] in['名詞', '動詞']]\r\n",
    "\r\n",
    "# 全体のテキストを句点('。')で区切った配列にする。 \r\n",
    "sentences = text.split('。')\r\n",
    "# それぞれの文章を単語リストに変換(処理に数分かかります)\r\n",
    "word_list = [extract_words(sentence) for sentence in sentences]\r\n",
    "\r\n",
    "# 結果の一部を確認 \r\n",
    "for word in word_list[0]:\r\n",
    "    print(word)"
   ],
   "outputs": [
    {
     "output_type": "stream",
     "name": "stdout",
     "text": [
      "一\n",
      "する\n",
      "目\n",
      "さめる\n",
      "女\n",
      "隣\n",
      "じいさん\n",
      "話\n",
      "始める\n",
      "いる\n"
     ]
    }
   ],
   "metadata": {}
  },
  {
   "cell_type": "markdown",
   "source": [
    "## 引数の確認\r\n",
    "\r\n",
    "sentences=None, \r\n",
    "corpus_file=None, \r\n",
    "vector_size=100, \r\n",
    "alpha=0.025, \r\n",
    "window=5, \r\n",
    "min_count=5, \r\n",
    "max_vocab_size=None, \r\n",
    "sample=0.001, \r\n",
    "seed=1, \r\n",
    "workers=3, \r\n",
    "min_alpha=0.0001, \r\n",
    "sg=0, \r\n",
    "hs=0, \r\n",
    "negative=5, \r\n",
    "ns_exponent=0.75, \r\n",
    "cbow_mean=1, \r\n",
    "hashfxn=<built-in function hash>, \r\n",
    "epochs=5, \r\n",
    "null_word=0, \r\n",
    "trim_rule=None, \r\n",
    "sorted_vocab=1, \r\n",
    "batch_words=10000, \r\n",
    "compute_loss=False, \r\n",
    "callbacks=(), \r\n",
    "comment=None, \r\n",
    "max_final_vocab=None)"
   ],
   "metadata": {}
  },
  {
   "cell_type": "code",
   "execution_count": 4,
   "source": [
    "# size: 圧縮次元数\r\n",
    "# min_count: 出現頻度の低いものをカットする\r\n",
    "# window: 前後の単語を拾う際の窓の広さを決める\r\n",
    "# iter: 機械学習の繰り返し回数(デフォルト:5)十分学習できていないときにこの値を調整する\r\n",
    "# model.wv.most_similarの結果が1に近いものばかりで、model.dict['wv']のベクトル値が小さい値ばかりの \r\n",
    "# ときは、学習回数が少ないと考えられます。\r\n",
    "# その場合、iterの値を大きくして、再度学習を行います。\r\n",
    "\r\n",
    "# 事前準備したword_listを使ってWord2Vecの学習実施\r\n",
    "# print(help(word2vec.Word2Vec()))\r\n",
    "model = word2vec.Word2Vec(word_list, vector_size=100,min_count=5,window=5,epochs=100)"
   ],
   "outputs": [],
   "metadata": {}
  },
  {
   "cell_type": "code",
   "execution_count": 5,
   "source": [
    "print(model.__dict__['wv']['世間'])"
   ],
   "outputs": [
    {
     "output_type": "stream",
     "name": "stdout",
     "text": [
      "[ 1.47738531e-01  7.48094738e-01  1.64193794e-01 -5.00450991e-02\n",
      " -1.56591520e-01 -7.58504808e-01 -1.34193093e-01  5.31632841e-01\n",
      " -6.82547808e-01  1.91176414e-01  3.73182595e-01 -3.73062283e-01\n",
      "  8.95477980e-02  7.97578990e-01  4.86545593e-01 -1.96622685e-03\n",
      " -2.85369724e-01  2.21585780e-01 -3.10054034e-01 -4.24489886e-01\n",
      " -1.00921047e+00  3.56334060e-01  6.56507313e-01 -1.15942442e+00\n",
      "  1.91227272e-01 -3.03334653e-01 -7.99480319e-01 -5.03003299e-01\n",
      "  1.05372846e-01 -5.54471970e-01  4.69458342e-01 -3.68871421e-01\n",
      " -1.75862461e-01 -4.91090566e-02 -4.32000726e-01  3.84856999e-01\n",
      " -6.09925985e-01 -4.05071348e-01 -3.96601111e-01 -2.61569619e-01\n",
      "  5.17423213e-01  3.67114656e-02 -1.88329250e-01 -4.98350680e-01\n",
      " -5.22106409e-01  4.44581687e-01 -3.90957385e-01 -4.40871358e-01\n",
      "  2.72994250e-01 -2.24807605e-01  8.15057397e-01 -4.93191123e-01\n",
      "  4.78905648e-01 -4.44945037e-01  2.65440911e-01 -9.66878831e-01\n",
      "  2.88865209e-01 -1.84856603e-04 -4.50716823e-01  3.17881644e-01\n",
      " -5.72665930e-01  6.90720603e-02 -7.05712140e-01 -4.84555364e-01\n",
      " -4.49257463e-01  3.39150697e-01  1.17265366e-01 -2.52203196e-01\n",
      "  1.21747598e-01  6.25769079e-01 -5.61928332e-01 -1.01193476e+00\n",
      " -4.28572029e-01 -4.90882471e-02  2.54860401e-01 -2.49254942e-01\n",
      "  2.43809938e-01  5.37648916e-01  5.48617840e-01  3.66569549e-01\n",
      " -6.43831730e-01  1.75856543e-03 -9.26193669e-02  3.27731781e-02\n",
      "  6.57375008e-02 -6.04826868e-01  7.02900067e-02  1.58724472e-01\n",
      "  3.61741155e-01 -2.95456592e-02 -6.47062004e-01 -2.37522304e-01\n",
      "  1.68850854e-01 -5.79126298e-01  4.62246597e-01 -1.03199817e-01\n",
      " -1.84153989e-01  2.41592657e-02 -9.36410725e-02  2.79610977e-02]\n"
     ]
    }
   ],
   "metadata": {}
  },
  {
   "cell_type": "code",
   "execution_count": 6,
   "source": [
    "# 結果の確認2\r\n",
    "# 関数most_similarを使って「世間」の類似単語を調べます \r\n",
    "ret = model.wv.most_similar(positive=['世間']) \r\n",
    "for item in ret:\r\n",
    "    print(item[0], item[1])"
   ],
   "outputs": [
    {
     "output_type": "stream",
     "name": "stdout",
     "text": [
      "聞こえる 0.5858389139175415\n",
      "自己 0.5509515404701233\n",
      "喝采 0.5320912003517151\n",
      "決心 0.5112772583961487\n",
      "堪える 0.4917698800563812\n",
      "社会 0.480580598115921\n",
      "賛成 0.47687000036239624\n",
      "影響 0.46901530027389526\n",
      "外国 0.44975388050079346\n",
      "未来 0.4467791020870209\n"
     ]
    }
   ],
   "metadata": {}
  },
  {
   "cell_type": "code",
   "execution_count": 7,
   "source": [
    "path = 'data/recipe_chefgohan.json'\r\n",
    "df = json.load(open(path, 'r', encoding='utf-8'))\r\n",
    "# print(df)\r\n",
    "text = ''\r\n",
    "for _,r in df['recipes'].items():\r\n",
    "    # print(r['title'])\r\n",
    "    start = r['title']+'を作ります。'\r\n",
    "    end = r['title']+'が完成しました。'\r\n",
    "    instructions = ''.join(r['instructions']).replace('\\n','')\r\n",
    "    text += start + instructions + end + '\\n'\r\n",
    "print(text[:100])"
   ],
   "outputs": [
    {
     "output_type": "stream",
     "name": "stdout",
     "text": [
      "さつま芋のもちもちチーズ羊羹を作ります。牛乳と生クリームを合わせ、棒寒天を加えて煮溶かす。下準備したさつまいもとクリームチーズを合わせてよく混ぜてSTEP1をこしながら加える。さらに小麦粉とラム酒を加\n"
     ]
    }
   ],
   "metadata": {}
  },
  {
   "cell_type": "code",
   "execution_count": 8,
   "source": [
    "# 全体のテキストを句点('。')で区切った配列にする。 \r\n",
    "sentences = text.split('。')\r\n",
    "# それぞれの文章を単語リストに変換(処理に数分かかります)\r\n",
    "word_list = [extract_words(sentence) for sentence in sentences]\r\n",
    "\r\n",
    "# 結果の一部を確認 \r\n",
    "for word in word_list[0]:\r\n",
    "    print(word)"
   ],
   "outputs": [
    {
     "output_type": "stream",
     "name": "stdout",
     "text": [
      "さつま芋\n",
      "もち\n",
      "もち\n",
      "チーズ\n",
      "羊羹\n",
      "作る\n"
     ]
    }
   ],
   "metadata": {}
  },
  {
   "cell_type": "code",
   "execution_count": 9,
   "source": [
    "model = word2vec.Word2Vec(word_list, vector_size=300,min_count=5,window=5,epochs=100)"
   ],
   "outputs": [],
   "metadata": {}
  },
  {
   "cell_type": "code",
   "execution_count": 10,
   "source": [
    "print(model.__dict__['wv']['肉'])"
   ],
   "outputs": [
    {
     "output_type": "stream",
     "name": "stdout",
     "text": [
      "[-0.86755484 -0.1890513   2.70156    -0.76835483  1.2123765  -1.7350413\n",
      "  1.2958905  -1.2852497  -0.27418274  0.02897273 -1.6959829   1.7419792\n",
      " -0.9828316  -0.10096513 -0.08968378 -0.48344788  0.42379144 -0.6499651\n",
      " -0.23307022 -0.23208265  0.4792553   0.6551309   0.5196844  -0.59654915\n",
      " -1.0083596  -0.8953712  -1.5150737  -0.5737016   0.3320661  -1.1033993\n",
      " -0.9861647   1.3220124   0.575487    0.0034522   1.2450875  -0.17649202\n",
      "  0.47227368  1.9448894   1.171233   -1.1876876  -0.02460204 -1.5420787\n",
      " -0.9351952   1.5278754   1.0701902   0.1521138   0.98993456  0.21089341\n",
      "  0.4407267  -1.0350362   0.79633874  0.03769383 -0.13851017 -1.1739333\n",
      " -0.05199483  1.0044297   1.8392434  -0.6603198   1.4958344   0.10411313\n",
      "  1.1236842   0.19617034  0.63595134 -0.08532842  0.5470934   0.4903468\n",
      " -0.5402613   1.3054796  -1.1065677  -1.2565951  -0.83286136 -1.0231458\n",
      "  0.17098995 -0.22348914  0.16459581  0.6537293  -0.40904838  0.95208085\n",
      "  0.88502413  0.01085455 -0.6184819  -0.16556258 -1.4195461  -0.4137326\n",
      " -0.03178584 -1.1757776   0.6634441   0.8676696   1.1961632  -0.7888913\n",
      "  1.2799933   0.3949473  -1.4760259   2.0888417   0.33927822  0.81841695\n",
      "  0.89452475  0.84356016 -0.18881856  0.24641748  0.8641348  -0.89532244\n",
      " -0.32463938  0.96172297 -0.69000846 -1.0357482  -0.16640699  0.05926137\n",
      "  1.2948054   0.9540419   0.2758084   0.16534403  1.0798371  -1.8460376\n",
      "  0.37825176  0.7425539  -1.1874065  -0.6871732  -1.0698577  -1.0340375\n",
      " -1.7027669  -0.35181838  0.20503363 -2.9527912   0.35961246 -1.183074\n",
      " -0.93253195  0.23737493  1.1730024   0.7794721  -0.37265307 -0.9218364\n",
      " -0.2942349  -2.3462167  -0.10510961 -0.3880413   1.3594443  -0.02540396\n",
      "  1.6982428   1.7049122  -0.9782083  -1.798525   -0.5014102  -0.42200947\n",
      "  0.47482342  0.67259437  1.1874237   0.22380278 -0.35151142 -1.1092026\n",
      " -1.140396    1.4828978   1.029234    1.6355644   0.08092199  0.47708118\n",
      " -0.22770405 -1.0472275  -0.64736426  0.69476163 -1.4210361  -1.5372554\n",
      "  0.63488436  0.41543844  0.10361975 -1.4788624   0.51564914  0.30222842\n",
      "  1.3544716  -0.34095395 -1.278658    0.31037706  0.1948772  -0.38654417\n",
      "  1.9247637   0.78802     0.37408316 -0.44042793  0.6282589   1.4836144\n",
      "  0.59174585  0.10008378 -0.7908773  -2.5355027  -0.71054095 -0.13586639\n",
      " -0.44292226  0.25272152 -0.6951285  -1.4400154  -2.482417   -0.5136961\n",
      "  1.0821576  -1.5393561   0.71454793 -0.22477083 -0.68218553  0.75110185\n",
      " -0.50082356  0.44287235  1.1994578  -0.7387527  -0.30350208  0.24603802\n",
      "  1.0281278  -0.4692368  -1.5923759  -0.78961    -0.42303476  0.56237507\n",
      " -0.8514529  -2.3726225   0.9656205  -0.13088444  0.08469425 -1.2675432\n",
      " -0.22438101  0.6127216  -1.0616162  -0.18973406 -1.0353316   0.87441814\n",
      " -0.16433072  2.408574   -0.69838816  0.03943153  0.11658557  0.7247951\n",
      "  0.21138862  1.089716   -0.14682753  0.286296   -0.95852596 -1.2267766\n",
      " -1.8048156   0.8827638  -0.86935616 -1.8855102   1.527613   -0.61654526\n",
      "  0.63535553 -0.15629052 -0.0522595   1.0963365  -0.592141    0.38450673\n",
      " -0.22238524  0.17935702 -0.13895148 -1.086629    0.45775795 -1.1886234\n",
      "  0.16985561 -0.7337977  -0.5373969   0.27340558 -0.5652228   0.27042508\n",
      "  1.7236705  -0.05564931 -1.2246506   1.8529929   0.5430049   0.412358\n",
      " -0.8387427   0.5807669  -0.4660242   0.20937538  0.29246855  0.05073397\n",
      " -1.2996479  -1.6885022   0.27822408 -1.1586589   1.3777504   0.58263993\n",
      "  0.37334305 -1.4203007   1.3559183   0.01735601 -0.67095184  1.3706598\n",
      " -1.2684362  -0.8688339  -1.3849324  -0.41911504 -0.24926408  0.40613413\n",
      " -0.12097405 -0.70518565 -0.05482657 -0.7261322   0.6867588  -0.14787789\n",
      " -1.6139066  -0.20777668  0.66221493 -1.0789928  -0.3463647   0.8860949 ]\n"
     ]
    }
   ],
   "metadata": {}
  },
  {
   "cell_type": "code",
   "execution_count": 11,
   "source": [
    "ret = model.wv.most_similar(positive=['焼く']) \r\n",
    "for item in ret:\r\n",
    "    print(item[0], item[1])"
   ],
   "outputs": [
    {
     "output_type": "stream",
     "name": "stdout",
     "text": [
      "焼ける 0.4931952655315399\n",
      "キツネ 0.45121780037879944\n",
      "トースター 0.44726747274398804\n",
      "焼き上げる 0.430612713098526\n",
      "返す 0.4264180660247803\n",
      "両面 0.4043942987918854\n",
      "面 0.4029857814311981\n",
      "押す 0.3814873993396759\n",
      "焼き 0.37664249539375305\n",
      "シート 0.36231309175491333\n"
     ]
    }
   ],
   "metadata": {}
  },
  {
   "cell_type": "code",
   "execution_count": 12,
   "source": [
    "results = model.wv.most_similar(positive=['焼く','水'], topn=5)\r\n",
    "for result in results:\r\n",
    "    print(result[0])"
   ],
   "outputs": [
    {
     "output_type": "stream",
     "name": "stdout",
     "text": [
      "焦げる\n",
      "g\n",
      "70\n",
      "焼き上げる\n",
      "テフロン\n"
     ]
    }
   ],
   "metadata": {}
  },
  {
   "cell_type": "code",
   "execution_count": 13,
   "source": [
    "results = model.wv.most_similar(positive=['煮る'], negative=['水'], topn=5)\r\n",
    "for result in results:\r\n",
    "    print(result[0])"
   ],
   "outputs": [
    {
     "output_type": "stream",
     "name": "stdout",
     "text": [
      "煮込む\n",
      "タイ\n",
      "店\n",
      "俺\n",
      "蒸し器\n"
     ]
    }
   ],
   "metadata": {}
  },
  {
   "cell_type": "code",
   "execution_count": 14,
   "source": [
    "results = model.wv.most_similar(positive=['煮る'], negative=['焼く'], topn=5)\r\n",
    "for result in results:\r\n",
    "    print(result[0])"
   ],
   "outputs": [
    {
     "output_type": "stream",
     "name": "stdout",
     "text": [
      "顆粒\n",
      "だし\n",
      "A\n",
      "煮汁\n",
      "ペースト\n"
     ]
    }
   ],
   "metadata": {}
  },
  {
   "cell_type": "code",
   "execution_count": 15,
   "source": [
    "results = model.wv.most_similar(positive=['肉','たまねぎ'], topn=5)\r\n",
    "for result in results:\r\n",
    "    print(result[0])"
   ],
   "outputs": [
    {
     "output_type": "stream",
     "name": "stdout",
     "text": [
      "きゅうり\n",
      "挽き肉\n",
      "ひき肉\n",
      "ローリエ\n",
      "セロリ\n"
     ]
    }
   ],
   "metadata": {}
  }
 ],
 "metadata": {
  "orig_nbformat": 4,
  "language_info": {
   "name": "python",
   "version": "3.9.6",
   "mimetype": "text/x-python",
   "codemirror_mode": {
    "name": "ipython",
    "version": 3
   },
   "pygments_lexer": "ipython3",
   "nbconvert_exporter": "python",
   "file_extension": ".py"
  },
  "kernelspec": {
   "name": "python3",
   "display_name": "Python 3.9.6 64-bit"
  },
  "interpreter": {
   "hash": "703bbbeedfcbeab203e322e73325805c9ac8ffb4b5321a34c42f421369651d04"
  }
 },
 "nbformat": 4,
 "nbformat_minor": 2
}