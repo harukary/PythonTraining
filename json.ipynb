{
 "cells": [
  {
   "cell_type": "markdown",
   "source": [
    "# Json\r\n",
    "* Json読み込み\r\n",
    "* Json連結\r\n",
    "* Json書き出し\r\n",
    "* Filterで複数条件検索"
   ],
   "metadata": {}
  },
  {
   "cell_type": "code",
   "execution_count": 2,
   "source": [
    "import json\r\n",
    "import datetime"
   ],
   "outputs": [],
   "metadata": {}
  },
  {
   "cell_type": "code",
   "execution_count": 4,
   "source": [
    "path1 = 'data/recipe/chefgohan_肉じゃが.json'\r\n",
    "path2 = 'data/recipe/chefgohan_ハンバーグ.json'"
   ],
   "outputs": [],
   "metadata": {}
  },
  {
   "cell_type": "code",
   "execution_count": 6,
   "source": [
    "# Json読み込み\r\n",
    "with open(path1, encoding=\"utf-8\") as f:\r\n",
    "    df1 = json.load(f)\r\n",
    "df1"
   ],
   "outputs": [
    {
     "output_type": "execute_result",
     "data": {
      "text/plain": [
       "{'publisher': 'シェフごはん',\n",
       " 'title': '肉じゃが',\n",
       " 'image': 'https://c-chefgohan.gnst.jp/imgdata/recipe/95/00/95/rc732x546_1209140727_8e07f0cac6be1fd35c46b3f1362f01c8.jpg',\n",
       " 'date': '2013-12-12',\n",
       " 'time': '40',\n",
       " 'num': '4人前',\n",
       " 'method': '煮る',\n",
       " 'cuisine': '和食',\n",
       " 'author': '野永 喜三夫',\n",
       " 'ingredients': [{'name': '豚バラスライス', 'quantity': '250g'},\n",
       "  {'name': 'ジャガイモ', 'quantity': '500～550g'},\n",
       "  {'name': '人参', 'quantity': '1/2本'},\n",
       "  {'name': '玉葱', 'quantity': '1個'},\n",
       "  {'name': 'きぬさや', 'quantity': '4枚'},\n",
       "  {'name': 'だし汁', 'quantity': '600cc'},\n",
       "  {'name': '醤油', 'quantity': '大さじ4'},\n",
       "  {'name': 'みりん', 'quantity': '大さじ4'},\n",
       "  {'name': '砂糖', 'quantity': '大さじ1'}],\n",
       " 'instructions': ['玉葱を繊維に沿ってくし切りで約3cm程度の大きさに揃えておく。',\n",
       "  'フライパンにあわせだし汁を入れ、まだ冷たいだし汁の中にお肉をほぐしながら入れ、野菜を加えキッチンペーパーで落し蓋をし火をつけて強火で一度煮立てる。',\n",
       "  '煮立ったら中火にし、約15分ほど煮る。',\n",
       "  '出汁が半分くらいに煮詰まったら、火を止め、具材に味を浸み込ませるため、一度常温になるまで冷ます。',\n",
       "  '再度火にかけます。落し蓋を外し中火にかけ、フライパンを傾けて出汁を材料にかけながら、好みの味になるまで煮詰める。味を整えたら、火を止める。',\n",
       "  '皿に盛り付け、お好みできぬさやをちらして完成。']}"
      ]
     },
     "metadata": {},
     "execution_count": 6
    }
   ],
   "metadata": {}
  },
  {
   "cell_type": "code",
   "execution_count": 7,
   "source": [
    "with open(path2, encoding=\"utf-8\") as f:\r\n",
    "    df2 = json.load(f)\r\n",
    "df2"
   ],
   "outputs": [
    {
     "output_type": "execute_result",
     "data": {
      "text/plain": [
       "{'publisher': 'シェフごはん',\n",
       " 'title': 'ハンバーグ',\n",
       " 'image': 'https://c-chefgohan.gnst.jp/imgdata/recipe/13/04/413/rc732x546_1209170437_0eda12ee548fc00eaed8d9d34c38ffc2.jpg',\n",
       " 'date': '2012-09-23',\n",
       " 'time': '20',\n",
       " 'num': '2人前',\n",
       " 'method': '焼く',\n",
       " 'cuisine': 'フレンチ',\n",
       " 'author': '高良 康之',\n",
       " 'ingredients': [{'name': '合い挽き肉', 'quantity': '200g'},\n",
       "  {'name': '玉葱', 'quantity': '1と1/4個'},\n",
       "  {'name': 'バター', 'quantity': '適量'},\n",
       "  {'name': 'パン粉', 'quantity': '大さじ2'},\n",
       "  {'name': '牛乳', 'quantity': '大さじ2'},\n",
       "  {'name': '卵', 'quantity': '1/2個'},\n",
       "  {'name': '塩、胡椒', 'quantity': '適量'},\n",
       "  {'name': 'パン粉（衣用）', 'quantity': '適量'},\n",
       "  {'name': 'カレー粉', 'quantity': '小さじ1/2'},\n",
       "  {'name': '├ 赤ワイン', 'quantity': '35cc'},\n",
       "  {'name': '├ 水', 'quantity': '100cc'},\n",
       "  {'name': '├ トマトケチャップ', 'quantity': '5g'},\n",
       "  {'name': '└トマトピューレ', 'quantity': '35g '},\n",
       "  {'name': '├ 卵', 'quantity': '2個'},\n",
       "  {'name': '├ 水', 'quantity': '適量'},\n",
       "  {'name': '└酢', 'quantity': '適量'},\n",
       "  {'name': '飾り用サラダ、ミニトマト', 'quantity': '適量'}],\n",
       " 'instructions': ['ひき肉に、炒めて冷めたたまねぎ、パン粉と牛乳と卵を混ぜる。塩、胡椒、カレー粉を加えて、さらによく練る。小判上に成形して裏表にパン粉をつける。真ん中をくぼます。',\n",
       "  '［ポーチドエッグ］水、酢、塩を入れて沸騰させ、割った卵を鍋の縁からゆっくり入れる。卵が茹で上がったら水に取り出す。',\n",
       "  '赤ワインを火に掛けアルコールを飛ばし、水、トマトケチャップ、トマトピューレを合わせ、ソースを作る。',\n",
       "  '熱したフライパンにサラダ油を入れ、中火でハンバーグのパテを入れる。1分程度焼く、裏返し、裏も1分程度焼く。ハンバーグを取り出し、フライパンの油を捨てる。',\n",
       "  '中火にし、玉葱の輪切りを入れる。玉葱が焼けたら裏返し、ハンバーグを上に置く。のせたハンバーグにソースの材料を加え、フライパンにフタをし2～3分蒸し焼きにする。',\n",
       "  '竹串で突き透明の肉汁が出たら取り出す。肉汁を煮立て、塩胡椒を加えソースを完成させる。ハンバーグを皿に盛り、玉葱の輪切りとポーチドエッグをのせ、ソースをかける。']}"
      ]
     },
     "metadata": {},
     "execution_count": 7
    }
   ],
   "metadata": {}
  },
  {
   "cell_type": "code",
   "execution_count": 8,
   "source": [
    "# Json連結\r\n",
    "recipe_dict = {}\r\n",
    "dt_now = datetime.datetime.now()\r\n",
    "date = dt_now.strftime('%Y-%m-%d')\r\n",
    "recipe_dict['date'] = date\r\n",
    "recipe_dict['recipes'] = {}\r\n",
    "key1 = df1['publisher'] + '_' + df1['title']\r\n",
    "key2 = df2['publisher'] + '_' + df2['title']\r\n",
    "recipe_dict['recipes'][key1] = df1\r\n",
    "recipe_dict['recipes'][key2] = df2\r\n",
    "\r\n",
    "recipe_dict"
   ],
   "outputs": [
    {
     "output_type": "execute_result",
     "data": {
      "text/plain": [
       "{'date': '2021-08-21',\n",
       " 'recipes': {'シェフごはん_肉じゃが': {'publisher': 'シェフごはん',\n",
       "   'title': '肉じゃが',\n",
       "   'image': 'https://c-chefgohan.gnst.jp/imgdata/recipe/95/00/95/rc732x546_1209140727_8e07f0cac6be1fd35c46b3f1362f01c8.jpg',\n",
       "   'date': '2013-12-12',\n",
       "   'time': '40',\n",
       "   'num': '4人前',\n",
       "   'method': '煮る',\n",
       "   'cuisine': '和食',\n",
       "   'author': '野永 喜三夫',\n",
       "   'ingredients': [{'name': '豚バラスライス', 'quantity': '250g'},\n",
       "    {'name': 'ジャガイモ', 'quantity': '500～550g'},\n",
       "    {'name': '人参', 'quantity': '1/2本'},\n",
       "    {'name': '玉葱', 'quantity': '1個'},\n",
       "    {'name': 'きぬさや', 'quantity': '4枚'},\n",
       "    {'name': 'だし汁', 'quantity': '600cc'},\n",
       "    {'name': '醤油', 'quantity': '大さじ4'},\n",
       "    {'name': 'みりん', 'quantity': '大さじ4'},\n",
       "    {'name': '砂糖', 'quantity': '大さじ1'}],\n",
       "   'instructions': ['玉葱を繊維に沿ってくし切りで約3cm程度の大きさに揃えておく。',\n",
       "    'フライパンにあわせだし汁を入れ、まだ冷たいだし汁の中にお肉をほぐしながら入れ、野菜を加えキッチンペーパーで落し蓋をし火をつけて強火で一度煮立てる。',\n",
       "    '煮立ったら中火にし、約15分ほど煮る。',\n",
       "    '出汁が半分くらいに煮詰まったら、火を止め、具材に味を浸み込ませるため、一度常温になるまで冷ます。',\n",
       "    '再度火にかけます。落し蓋を外し中火にかけ、フライパンを傾けて出汁を材料にかけながら、好みの味になるまで煮詰める。味を整えたら、火を止める。',\n",
       "    '皿に盛り付け、お好みできぬさやをちらして完成。']},\n",
       "  'シェフごはん_ハンバーグ': {'publisher': 'シェフごはん',\n",
       "   'title': 'ハンバーグ',\n",
       "   'image': 'https://c-chefgohan.gnst.jp/imgdata/recipe/13/04/413/rc732x546_1209170437_0eda12ee548fc00eaed8d9d34c38ffc2.jpg',\n",
       "   'date': '2012-09-23',\n",
       "   'time': '20',\n",
       "   'num': '2人前',\n",
       "   'method': '焼く',\n",
       "   'cuisine': 'フレンチ',\n",
       "   'author': '高良 康之',\n",
       "   'ingredients': [{'name': '合い挽き肉', 'quantity': '200g'},\n",
       "    {'name': '玉葱', 'quantity': '1と1/4個'},\n",
       "    {'name': 'バター', 'quantity': '適量'},\n",
       "    {'name': 'パン粉', 'quantity': '大さじ2'},\n",
       "    {'name': '牛乳', 'quantity': '大さじ2'},\n",
       "    {'name': '卵', 'quantity': '1/2個'},\n",
       "    {'name': '塩、胡椒', 'quantity': '適量'},\n",
       "    {'name': 'パン粉（衣用）', 'quantity': '適量'},\n",
       "    {'name': 'カレー粉', 'quantity': '小さじ1/2'},\n",
       "    {'name': '├ 赤ワイン', 'quantity': '35cc'},\n",
       "    {'name': '├ 水', 'quantity': '100cc'},\n",
       "    {'name': '├ トマトケチャップ', 'quantity': '5g'},\n",
       "    {'name': '└トマトピューレ', 'quantity': '35g '},\n",
       "    {'name': '├ 卵', 'quantity': '2個'},\n",
       "    {'name': '├ 水', 'quantity': '適量'},\n",
       "    {'name': '└酢', 'quantity': '適量'},\n",
       "    {'name': '飾り用サラダ、ミニトマト', 'quantity': '適量'}],\n",
       "   'instructions': ['ひき肉に、炒めて冷めたたまねぎ、パン粉と牛乳と卵を混ぜる。塩、胡椒、カレー粉を加えて、さらによく練る。小判上に成形して裏表にパン粉をつける。真ん中をくぼます。',\n",
       "    '［ポーチドエッグ］水、酢、塩を入れて沸騰させ、割った卵を鍋の縁からゆっくり入れる。卵が茹で上がったら水に取り出す。',\n",
       "    '赤ワインを火に掛けアルコールを飛ばし、水、トマトケチャップ、トマトピューレを合わせ、ソースを作る。',\n",
       "    '熱したフライパンにサラダ油を入れ、中火でハンバーグのパテを入れる。1分程度焼く、裏返し、裏も1分程度焼く。ハンバーグを取り出し、フライパンの油を捨てる。',\n",
       "    '中火にし、玉葱の輪切りを入れる。玉葱が焼けたら裏返し、ハンバーグを上に置く。のせたハンバーグにソースの材料を加え、フライパンにフタをし2～3分蒸し焼きにする。',\n",
       "    '竹串で突き透明の肉汁が出たら取り出す。肉汁を煮立て、塩胡椒を加えソースを完成させる。ハンバーグを皿に盛り、玉葱の輪切りとポーチドエッグをのせ、ソースをかける。']}}}"
      ]
     },
     "metadata": {},
     "execution_count": 8
    }
   ],
   "metadata": {}
  },
  {
   "cell_type": "code",
   "execution_count": 9,
   "source": [
    "# Json書き込み\r\n",
    "with open('data/recipe_dict.json', 'w', encoding=\"utf-8\") as f:\r\n",
    "    json.dump(recipe_dict, f, ensure_ascii=False, indent=4)"
   ],
   "outputs": [],
   "metadata": {}
  },
  {
   "cell_type": "code",
   "execution_count": 16,
   "source": [
    "# Filterで複数条件検索\r\n",
    "with open('data\\db_recipe_chefgohan.json', encoding=\"utf-8\") as f:\r\n",
    "    df_dict = json.load(f)\r\n",
    "# print(json.dumps(df_dict, indent=2, ensure_ascii=False))\r\n",
    "\r\n",
    "## conditions\r\n",
    "publisher = 'シェフごはん'\r\n",
    "max_time = 30\r\n",
    "cuisine = None\r\n",
    "method = '蒸す'\r\n",
    "\r\n",
    "def match_conditions(x):\r\n",
    "    ok = True\r\n",
    "    if publisher is not None:\r\n",
    "        ok = (x['publisher'] == publisher)\r\n",
    "    if max_time is not None:\r\n",
    "        ok = (int(x['time']) <= max_time)\r\n",
    "    if cuisine is not None:\r\n",
    "        ok = (x['cuisine'] == cuisine)\r\n",
    "    if method is not None:\r\n",
    "        ok = (x['method'] == method)\r\n",
    "    return ok\r\n",
    "\r\n",
    "recipe_list = list(filter(match_conditions, df_dict['recipes'].values()))\r\n",
    "print('\\n'.join([r['title'] for r in recipe_list]))\r\n"
   ],
   "outputs": [
    {
     "output_type": "stream",
     "name": "stdout",
     "text": [
      "春の茶碗蒸し〜明日葉仕立て〜\n",
      "蒸し鶏のパリパリサラダ・胡麻風味\n"
     ]
    }
   ],
   "metadata": {}
  }
 ],
 "metadata": {
  "orig_nbformat": 4,
  "language_info": {
   "name": "python",
   "version": "3.9.6",
   "mimetype": "text/x-python",
   "codemirror_mode": {
    "name": "ipython",
    "version": 3
   },
   "pygments_lexer": "ipython3",
   "nbconvert_exporter": "python",
   "file_extension": ".py"
  },
  "kernelspec": {
   "name": "python3",
   "display_name": "Python 3.9.6 64-bit"
  },
  "interpreter": {
   "hash": "703bbbeedfcbeab203e322e73325805c9ac8ffb4b5321a34c42f421369651d04"
  }
 },
 "nbformat": 4,
 "nbformat_minor": 2
}