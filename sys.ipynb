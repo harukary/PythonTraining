{
 "cells": [
  {
   "cell_type": "markdown",
   "source": [
    "# Sys\r\n",
    "* grobで特定フォルダ内の全ファイルパス取得"
   ],
   "metadata": {}
  },
  {
   "cell_type": "code",
   "execution_count": 1,
   "source": [
    "import glob"
   ],
   "outputs": [],
   "metadata": {}
  },
  {
   "cell_type": "code",
   "execution_count": 4,
   "source": [
    "folder_name = 'data/recipe/'\r\n",
    "pathlist = glob.glob(folder_name + '*.json')\r\n",
    "print('\\n'.join(pathlist))"
   ],
   "outputs": [
    {
     "output_type": "stream",
     "name": "stdout",
     "text": [
      "data/recipe\\chefgohan_ハンバーグ.json\n",
      "data/recipe\\chefgohan_肉じゃが.json\n"
     ]
    }
   ],
   "metadata": {}
  }
 ],
 "metadata": {
  "orig_nbformat": 4,
  "language_info": {
   "name": "python",
   "version": "3.9.6",
   "mimetype": "text/x-python",
   "codemirror_mode": {
    "name": "ipython",
    "version": 3
   },
   "pygments_lexer": "ipython3",
   "nbconvert_exporter": "python",
   "file_extension": ".py"
  },
  "kernelspec": {
   "name": "python3",
   "display_name": "Python 3.9.6 64-bit"
  },
  "interpreter": {
   "hash": "703bbbeedfcbeab203e322e73325805c9ac8ffb4b5321a34c42f421369651d04"
  }
 },
 "nbformat": 4,
 "nbformat_minor": 2
}